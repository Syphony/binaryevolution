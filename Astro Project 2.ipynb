{
 "cells": [
  {
   "cell_type": "code",
   "execution_count": null,
   "id": "c288fd9a",
   "metadata": {},
   "outputs": [],
   "source": [
    "from cosmic.sample.initialbinarytable import InitialBinaryTable\n",
    "from cosmic.evolve import Evolve\n",
    "from cosmic.sample.sampler import independent\n",
    "import numpy as np"
   ]
  },
  {
   "cell_type": "code",
   "execution_count": null,
   "id": "107fb799",
   "metadata": {},
   "outputs": [],
   "source": [
    "final_kstar1 = np.linspace(0, 14, 15)\n",
    "final_kstar2 = np.linspace(0, 14, 15)"
   ]
  },
  {
   "cell_type": "code",
   "execution_count": null,
   "id": "2167dbd2",
   "metadata": {},
   "outputs": [],
   "source": [
    "InitialBinaries, mass_singles, mass_binaries, n_singles, n_binaries = InitialBinaryTable.sampler('independent', \n",
    "                               final_kstar1, final_kstar2, binfrac_model=0.5, \n",
    "                               primary_model='kroupa01', ecc_model='sana12', porb_model='sana12', nproc=4, \n",
    "                               m2_min=0.08, SF_start=13700.0, SF_duration=0.0, met=0.02, size=1000)\n",
    "#Initializing binary systems"
   ]
  },
  {
   "cell_type": "code",
   "execution_count": null,
   "id": "9ab4690c",
   "metadata": {},
   "outputs": [],
   "source": [
    "print(InitialBinaries)"
   ]
  },
  {
   "cell_type": "code",
   "execution_count": null,
   "id": "48f89acf",
   "metadata": {},
   "outputs": [],
   "source": [
    "BSEDict = {'xi': 1.0, 'bhflag': 1, 'neta': 0.5, 'windflag': 3, 'wdflag': 1, 'alpha1': 1.0, 'pts1': 0.001, \n",
    "           'pts3': 0.02, 'pts2': 0.01, 'epsnov': 0.001, 'hewind': 0.5, 'ck': 1000, 'bwind': 0.0, 'lambdaf': 0.0, \n",
    "           'mxns': 3.0, 'beta': -1.0, 'tflag': 1, 'acc2': 1.5, 'grflag' : 1, 'remnantflag': 4, 'ceflag': 0, \n",
    "           'eddfac': 1.0, 'ifflag': 0, 'bconst': 3000, 'sigma': 265.0, 'gamma': -2.0, 'pisn': 45.0, \n",
    "           'natal_kick_array' : [[-100.0,-100.0,-100.0,-100.0,0.0], [-100.0,-100.0,-100.0,-100.0,0.0]], \n",
    "           'bhsigmafrac' : 1.0, 'polar_kick_angle' : 90, \n",
    "           'qcrit_array' : [0.0,0.0,0.0,0.0,0.0,0.0,0.0,0.0,0.0,0.0,0.0,0.0,0.0,0.0,0.0,0.0], 'cekickflag' : 2, \n",
    "           'cehestarflag' : 0, 'cemergeflag' : 0, 'ecsn' : 2.25, 'ecsn_mlow' : 1.6, 'aic' : 1, 'ussn' : 0, \n",
    "           'sigmadiv' :-20.0, 'qcflag' : 1, 'eddlimflag' : 0, \n",
    "           'fprimc_array' : [2.0/21.0,2.0/21.0,2.0/21.0,2.0/21.0,2.0/21.0,2.0/21.0,2.0/21.0,2.0/21.0,2.0/21.0,2.0/21.0,2.0/21.0,2.0/21.0,2.0/21.0,2.0/21.0,2.0/21.0,2.0/21.0], 'bhspinflag' : 0, \n",
    "           'bhspinmag' : 0.0, 'rejuv_fac' : 1.0, 'rejuvflag' : 0, 'htpmb' : 1, 'ST_cr' : 1, 'ST_tide' : 1, 'bdecayfac' : 1, \n",
    "           'rembar_massloss' : 0.5, 'kickflag' : 0, 'zsun' : 0.019, 'bhms_coll_flag' : 0, 'don_lim' : -1, 'acc_lim' : -1}"
   ]
  },
  {
   "cell_type": "code",
   "execution_count": null,
   "id": "9ebd8244",
   "metadata": {},
   "outputs": [],
   "source": [
    "bpp, bcm, initC, kick_info  = Evolve.evolve(initialbinarytable=InitialBinaries, BSEDict=BSEDict, nproc=4)"
   ]
  },
  {
   "cell_type": "code",
   "execution_count": null,
   "id": "e9eaf214",
   "metadata": {},
   "outputs": [],
   "source": [
    "bpp.to_hdf('Project2_bpp.h5', key='bpp')\n",
    "bcm.to_hdf('Project2_bcm.h5', key='bcm')\n",
    "bpp=pd.read_hdf('Project2_bpp.h5', key='bpp')\n",
    "bcm=pd.read_hdf('Project2_bcm.h5', key='bcm')"
   ]
  }
 ],
 "metadata": {
  "kernelspec": {
   "display_name": "Python 3 (ipykernel)",
   "language": "python",
   "name": "python3"
  },
  "language_info": {
   "codemirror_mode": {
    "name": "ipython",
    "version": 3
   },
   "file_extension": ".py",
   "mimetype": "text/x-python",
   "name": "python",
   "nbconvert_exporter": "python",
   "pygments_lexer": "ipython3",
   "version": "3.10.13"
  }
 },
 "nbformat": 4,
 "nbformat_minor": 5
}
